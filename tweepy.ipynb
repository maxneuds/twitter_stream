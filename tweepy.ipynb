{
 "cells": [
  {
   "cell_type": "code",
   "execution_count": 50,
   "metadata": {},
   "outputs": [],
   "source": [
    "# def filter_tweet(tweet):\n",
    "# # Remove any tweets that don't match our criteria.\n",
    "#     if not tweet_matches_criteria(tweet):\n",
    "#         return\n",
    "# # Process the remaining tweets.\n",
    "# process_tweet(tweet)\n",
    "# def process_tweet(tweet):\n",
    "# # Annotate the tweet dictionary with any other information we need.\n",
    "#     tweet[\"sentiment\"] = get_sentiment(tweet)\n",
    "# # Store the tweet.\n",
    "# store_tweet(tweet)\n",
    "# def store_tweet(tweet):\n",
    "# # Saves a tweet for later processing. ..."
   ]
  },
  {
   "cell_type": "code",
   "execution_count": 65,
   "metadata": {},
   "outputs": [],
   "source": [
    "import pandas as pd\n",
    "import numpy as np\n",
    "import matplotlib.pyplot as plt\n",
    "import configparser\n",
    "import time\n",
    "import tweepy"
   ]
  },
  {
   "cell_type": "code",
   "execution_count": 67,
   "metadata": {},
   "outputs": [],
   "source": [
    "path_conf = 'conf/settings.ini'\n",
    "config = configparser.ConfigParser()\n",
    "config.read(path_conf)\n",
    "keys = config['KEYS']"
   ]
  },
  {
   "cell_type": "code",
   "execution_count": 68,
   "metadata": {},
   "outputs": [],
   "source": [
    "TWITTER_APP_KEY = keys['TWITTER_APP_KEY']\n",
    "TWITTER_APP_SECRET = keys['TWITTER_APP_SECRET']\n",
    "TWITTER_KEY = keys['TWITTER_KEY']\n",
    "TWITTER_SECRET = keys['TWITTER_SECRET']\n",
    "\n",
    "auth = tweepy.OAuthHandler(TWITTER_APP_KEY, TWITTER_APP_SECRET)\n",
    "auth.set_access_token(TWITTER_KEY, TWITTER_SECRET)\n",
    "\n",
    "api = tweepy.API(auth)"
   ]
  },
  {
   "cell_type": "code",
   "execution_count": 69,
   "metadata": {},
   "outputs": [],
   "source": [
    "# build listener for new tweets\n",
    "\n",
    "# create a listener that prints the text of any tweet that comes from the Twitter API.\n",
    "class StreamListener(tweepy.StreamListener):\n",
    "  def __init__(self, time_limit=60):\n",
    "    self.start_time = time.time()\n",
    "    self.limit = time_limit\n",
    "    self.saveFile = open('twitter.csv', 'w')\n",
    "    super(StreamListener, self).__init__()\n",
    "  \n",
    "  def on_status(self, status):\n",
    "    if (time.time() - self.start_time) < self.limit:\n",
    "      if hasattr(status, \"retweeted_status\"):\n",
    "        return\n",
    "      else:\n",
    "        if hasattr(status, \"extended_tweet\"):\n",
    "          text = status.extended_tweet[\"full_text\"]\n",
    "        else:\n",
    "          text = status.text\n",
    "        # save text to file\n",
    "        self.saveFile.write(text)\n",
    "        self.saveFile.write('\\n')\n",
    "        print(text)\n",
    "        # return tweet text\n",
    "        #print(status['extended_tweet']['full_text'])\n",
    "    else:\n",
    "      self.saveFile.close()\n",
    "      return False\n",
    "\n",
    "  def on_error(self, status_code):\n",
    "    if status_code == 420:\n",
    "      return False"
   ]
  },
  {
   "cell_type": "code",
   "execution_count": 70,
   "metadata": {},
   "outputs": [],
   "source": [
    "stream_listener = StreamListener(time_limit=10)"
   ]
  },
  {
   "cell_type": "code",
   "execution_count": 74,
   "metadata": {},
   "outputs": [],
   "source": [
    "stream_listener.running = False"
   ]
  },
  {
   "cell_type": "markdown",
   "metadata": {},
   "source": [
    "```\n",
    "description = status.user.description\n",
    "loc = status.user.location\n",
    "text = status.text\n",
    "coords = status.coordinates\n",
    "name = status.user.screen_name\n",
    "user_created = status.user.created_at\n",
    "followers = status.user.followers_count\n",
    "id_str = status.id_str\n",
    "created = status.created_at\n",
    "retweets = status.retweet_count\n",
    "bg_color = status.user.profile_background_color\n",
    "```\n",
    "\n",
    "interesting objects attributes\n",
    "```\n",
    "text: short text with link\n",
    "user: object(id, name, screen_name, location)\n",
    "extended_tweet(full_text, user_mentions)\n",
    "```"
   ]
  },
  {
   "cell_type": "code",
   "execution_count": 72,
   "metadata": {},
   "outputs": [
    {
     "name": "stdout",
     "output_type": "stream",
     "text": [
      "Resign and walk himself directly to jail a s confess everything he has done\n",
      "@hoob_mark @vo5tok You’re an actual ret*rd if you think trump had enough votes in the senate to do anything. I’m blocking you for being a bitch\n",
      "@atrupar Did fox cover tRump wearing a mask?\n",
      "#democrats and #USA WAKE UP!\n",
      "\n",
      "You are letting communism take over the US in the form of liberalism and anti racism.\n",
      "\n",
      "What’s going on has zero to do w racism &amp; everything to do w #liberal agendas and easing them through. \n",
      "\n",
      "#Trump needs to be re-elected or we will all be killed off\n",
      "@troymation @JDoss84 @Myish1 @722marine @wglady @TheRightMelissa @RealCandaceO Ya Boy Keith...\n",
      "\n",
      "You may want to do some more research on @RealCandaceO. Girl’s got rent to pay and black conservatives trashing Dems pays EXTREMELY well. \n",
      "\n",
      "Trump has been a con artist all his life...con artists support other con artists.\n",
      "\n",
      "🩸60 yrs ago👇🏽\n",
      "https://t.co/cmSoNuMPGN https://t.co/cQ9JJemx7p\n",
      "@Saiiyko @NYMami777 @MaElviraSalazar @KookieNyo Like I said I am not a trump supporter I won't go out of my way to defend him but I will go out of my way to defend a business which is being boycotted unfairly.\n",
      "RT @morgfair: New Lincoln Project ad takes on the ‘Trump crime spree’: ‘It’s a billion-dollar criminal enterprise’ – Raw Story https://t.co/9xiTg3iQmq #FoxAndFriends #Foxnews #tcot #tlot\n",
      "@EricTrump Trump is a big con artist but he gets caught!! He needs to take some lessons from Frank Abagnal\n",
      "Is Trump even good at golf?\n",
      "https://t.co/B2mc47lkJV\n",
      "@o2bnobx I’m using this simple form.  Obama &gt; Trump.\n",
      "@AskRoscoe @DrMjOkay @CarlosLozadaWP @TheRickWilson @AshleyRParker @costareports @ProjectLincoln https://t.co/O6bjcg7cbG\n",
      "We need all the hot young ladies on Twitter to start telling the President how attractive he looks so he will keep setting a good example.\n",
      "@MariaBartiromo @FoxNews @SundayFutures @RudyGiuliani Maria, I cringed when @RudyGiuliani made that comment about the tax returns - he just kicked the door wide open on speculation and what Trump was trying to hide. I don’t know Rudy can’t zip it sometimes\n",
      "@BaltimorePeace @mkraju The suggestion that Biden would select an AG with one of the criteria being the AG would go after Trump, is the same kind of corruption that we are all aghast about. This is how badly Trump and Barr have eroded our own thinking.\n",
      "@deesnider Here is what your voting for ..Biden will be removed from office after 6 months and the radical leftists will take over ..you want people to vote against trump this guy is isn’t the answer https://t.co/7vO2NROnV5\n",
      "@KirtonCharles @charliekirk11 Clinton lied under oath while president\n",
      "[VF] Donald Trump : \"Le vaccin contre la grippe est presque totalement i... https://t.co/Cc7clhY6uh via @YouTube\n",
      "Sigh. Of course this is Port Clinton. @lizskalka\n",
      "@BFMTV Un Trump ou un Poutine pour la France j\n",
      "Funny/not funny? 😂🤦🏻‍♀️\n",
      "‘Trump Is Finally Done, Trump Is Finally Done,’ Says Strait-Jacketed Opinion Columnist Babbling To Cup Of Applesauce https://t.co/HjyPWBHY3Z via @theonion\n",
      "@LloydFBishop @writerofwalls @MatthewJshow @realDonaldTrump Depends on what you mean by “people”. Those who voted in 2008 and 2012 were largely the same as those who voted in 2016. But those who voted for Obama in 2008 and 2012 were as a rule not the same as those who voted for Trump in 2016.\n",
      "@DavidJHarrisJr She should have done that before Clinton commuted Susan Rosenberg, a convicted terrorist involved in bombings/murders who is now conveniently associated at high level with BLM.\n",
      "😷 #PardonMeTrump \n",
      "tRUmp IS A Criminal\n",
      "\n",
      "Do ya see it YET MAGAt's❓😲🇺🇸💪🌊\n",
      "#VoteBlueToEndCorruption https://t.co/62PaBuA4bY\n",
      "@realDonaldTrump Americans die and Trump golfs.\n"
     ]
    }
   ],
   "source": [
    "stream = tweepy.Stream(auth=api.auth, listener=stream_listener)\n",
    "ltrack = [\"trump\", \"clinton\", \"hillary clinton\", \"donald trump\"]\n",
    "stream.filter(track=ltrack, is_async=True)"
   ]
  },
  {
   "cell_type": "code",
   "execution_count": null,
   "metadata": {},
   "outputs": [],
   "source": []
  },
  {
   "cell_type": "code",
   "execution_count": null,
   "metadata": {},
   "outputs": [],
   "source": []
  },
  {
   "cell_type": "code",
   "execution_count": null,
   "metadata": {},
   "outputs": [],
   "source": []
  },
  {
   "cell_type": "code",
   "execution_count": null,
   "metadata": {},
   "outputs": [],
   "source": []
  },
  {
   "cell_type": "code",
   "execution_count": null,
   "metadata": {},
   "outputs": [],
   "source": []
  }
 ],
 "metadata": {
  "kernelspec": {
   "display_name": "aai",
   "language": "python",
   "name": "aai"
  },
  "language_info": {
   "codemirror_mode": {
    "name": "ipython",
    "version": 3
   },
   "file_extension": ".py",
   "mimetype": "text/x-python",
   "name": "python",
   "nbconvert_exporter": "python",
   "pygments_lexer": "ipython3",
   "version": "3.8.2"
  }
 },
 "nbformat": 4,
 "nbformat_minor": 4
}
